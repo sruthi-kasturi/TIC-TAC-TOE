{
 "cells": [
  {
   "cell_type": "markdown",
   "metadata": {},
   "source": [
    "# Milestone Project 1: TIC TAC TOE"
   ]
  },
  {
   "cell_type": "markdown",
   "metadata": {},
   "source": [
    "**Step 1: Write a function that can print out a board. Set up your board as a list, where each index 1-9 corresponds with a number on a number pad, so you get a 3 by 3 board representation.**"
   ]
  },
  {
   "cell_type": "code",
   "execution_count": 1,
   "metadata": {},
   "outputs": [],
   "source": [
    "from IPython.display import clear_output\n",
    "\n",
    "def display_board(board):\n",
    "    \n",
    "    print(f'{board[7]} | {board[8]} | {board[9]}')\n",
    "    print('----------')\n",
    "    print(f'{board[4]} | {board[5]} | {board[6]}')\n",
    "    print('----------')\n",
    "    print(f'{board[1]} | {board[2]} | {board[3]}')\n"
   ]
  },
  {
   "cell_type": "markdown",
   "metadata": {},
   "source": [
    "**TEST Step 1:** run your function on a test version of the board list, and make adjustments as necessary"
   ]
  },
  {
   "cell_type": "code",
   "execution_count": 2,
   "metadata": {},
   "outputs": [
    {
     "name": "stdout",
     "output_type": "stream",
     "text": [
      "X | O | X\n",
      "----------\n",
      "O | X | O\n",
      "----------\n",
      "X | O | X\n"
     ]
    }
   ],
   "source": [
    "test_board = ['#','X','O','X','O','X','O','X','O','X']\n",
    "display_board(test_board)\n"
   ]
  },
  {
   "cell_type": "markdown",
   "metadata": {},
   "source": [
    "**Step 2: Write a function that can take in a player input and assign their marker as 'X' or 'O'. Think about using *while* loops to continually ask until you get a correct answer.**"
   ]
  },
  {
   "cell_type": "code",
   "execution_count": 3,
   "metadata": {},
   "outputs": [],
   "source": [
    "def player_input():\n",
    "    \n",
    "    marker = 1\n",
    "    \n",
    "    while marker not in ['X', 'O']:\n",
    "        s = input('Player one: Do you want to be X or O: ')\n",
    "        marker = s.upper()\n",
    "        if marker not in ['X', 'O']:\n",
    "            print('Select X or O')\n",
    "        else:\n",
    "            print(f'Player One selected {marker}')\n",
    "            \n",
    "    if marker == 'X':\n",
    "        marker_2 = 'O'\n",
    "    elif marker == 'O':\n",
    "        marker_2 = 'X'\n",
    "    print(f'Player two selected {marker_2}')\n",
    "            \n",
    "    return marker, marker_2"
   ]
  },
  {
   "cell_type": "markdown",
   "metadata": {},
   "source": [
    "**TEST Step 2:** run the function to make sure it returns the desired output"
   ]
  },
  {
   "cell_type": "code",
   "execution_count": 4,
   "metadata": {},
   "outputs": [
    {
     "name": "stdout",
     "output_type": "stream",
     "text": [
      "Player one: Do you want to be X or O: o\n",
      "Player One selected O\n",
      "Player two selected X\n"
     ]
    },
    {
     "data": {
      "text/plain": [
       "('O', 'X')"
      ]
     },
     "execution_count": 4,
     "metadata": {},
     "output_type": "execute_result"
    }
   ],
   "source": [
    "player_input()"
   ]
  },
  {
   "cell_type": "markdown",
   "metadata": {},
   "source": [
    "**TEST Step 3:** run the place marker function using test parameters and display the modified board"
   ]
  },
  {
   "cell_type": "code",
   "execution_count": 5,
   "metadata": {},
   "outputs": [],
   "source": [
    "def place_marker(board, marker, position):\n",
    "    board[position] = marker\n",
    "    return board"
   ]
  },
  {
   "cell_type": "code",
   "execution_count": 6,
   "metadata": {},
   "outputs": [
    {
     "name": "stdout",
     "output_type": "stream",
     "text": [
      "X | $ | X\n",
      "----------\n",
      "O | X | O\n",
      "----------\n",
      "X | O | X\n"
     ]
    }
   ],
   "source": [
    "place_marker(test_board,'$',8)\n",
    "display_board(test_board)"
   ]
  },
  {
   "cell_type": "markdown",
   "metadata": {},
   "source": [
    "**Step 4: Write a function that takes in a board and a mark (X or O) and then checks to see if that mark has won. **"
   ]
  },
  {
   "cell_type": "code",
   "execution_count": 7,
   "metadata": {},
   "outputs": [],
   "source": [
    "def win_check(board, mark):\n",
    "    \n",
    "    check = list(mark * 3)\n",
    "\n",
    "#         ROWs\n",
    "    if check == board[1:4] or check == board[4:7] or check == board[7:10]:\n",
    "        result = True\n",
    "        \n",
    "#         Columns\n",
    "    elif check == board[1:8:3] or check == board[2:9:3] or check == board[3:10:3]:\n",
    "        result = True\n",
    "        \n",
    "    #     Diagonals\n",
    "    elif mark == board[3] and mark == board[5] and mark == board[7]:\n",
    "        result = True\n",
    "    elif mark == board[1] and mark == board[5] and mark == board[9]:\n",
    "        result = True\n",
    "        \n",
    "    #     nothing true\n",
    "    else:\n",
    "        result = False\n",
    "    \n",
    "    \n",
    "    return result"
   ]
  },
  {
   "cell_type": "markdown",
   "metadata": {},
   "source": [
    "**TEST Step 4:** run the win_check function against our test_board - it should return True"
   ]
  },
  {
   "cell_type": "code",
   "execution_count": 8,
   "metadata": {},
   "outputs": [
    {
     "data": {
      "text/plain": [
       "True"
      ]
     },
     "execution_count": 8,
     "metadata": {},
     "output_type": "execute_result"
    }
   ],
   "source": [
    "win_check(test_board,'X')"
   ]
  },
  {
   "cell_type": "markdown",
   "metadata": {},
   "source": [
    "**Step 5: Write a function that uses the random module to randomly decide which player goes first. You may want to lookup random.randint() Return a string of which player went first.**"
   ]
  },
  {
   "cell_type": "code",
   "execution_count": 9,
   "metadata": {},
   "outputs": [],
   "source": [
    "import random\n",
    "\n",
    "def choose_first():\n",
    "    chosen_player = random.randint(1,2)\n",
    "    print(f'Player {chosen_player} will go first.')\n",
    "    return chosen_player"
   ]
  },
  {
   "cell_type": "code",
   "execution_count": 10,
   "metadata": {},
   "outputs": [
    {
     "name": "stdout",
     "output_type": "stream",
     "text": [
      "Player 1 will go first.\n"
     ]
    },
    {
     "data": {
      "text/plain": [
       "1"
      ]
     },
     "execution_count": 10,
     "metadata": {},
     "output_type": "execute_result"
    }
   ],
   "source": [
    "choose_first()"
   ]
  },
  {
   "cell_type": "markdown",
   "metadata": {},
   "source": [
    "**Step 6: Write a function that returns a boolean indicating whether a space on the board is freely available.**"
   ]
  },
  {
   "cell_type": "code",
   "execution_count": 26,
   "metadata": {},
   "outputs": [],
   "source": [
    "def space_check(board, position):\n",
    "    if board[position] == ' ':\n",
    "        space = True\n",
    "    else:\n",
    "        space = False\n",
    "            \n",
    "    return space"
   ]
  },
  {
   "cell_type": "code",
   "execution_count": 27,
   "metadata": {},
   "outputs": [],
   "source": [
    "test_board = [' '] * 10"
   ]
  },
  {
   "cell_type": "code",
   "execution_count": 28,
   "metadata": {},
   "outputs": [
    {
     "data": {
      "text/plain": [
       "True"
      ]
     },
     "execution_count": 28,
     "metadata": {},
     "output_type": "execute_result"
    }
   ],
   "source": [
    "space_check(test_board, 3)"
   ]
  },
  {
   "cell_type": "markdown",
   "metadata": {},
   "source": [
    "**Step 7: Write a function that checks if the board is full and returns a boolean value. True if full, False otherwise.**"
   ]
  },
  {
   "cell_type": "code",
   "execution_count": 13,
   "metadata": {},
   "outputs": [],
   "source": [
    "def full_board_check(board):\n",
    "\n",
    "    if ' ' not in board:\n",
    "        full = True\n",
    "    else:\n",
    "        full = False\n",
    "            \n",
    "    return full\n"
   ]
  },
  {
   "cell_type": "code",
   "execution_count": 24,
   "metadata": {},
   "outputs": [],
   "source": [
    "test_board = [' '] * 10"
   ]
  },
  {
   "cell_type": "code",
   "execution_count": 25,
   "metadata": {},
   "outputs": [
    {
     "data": {
      "text/plain": [
       "False"
      ]
     },
     "execution_count": 25,
     "metadata": {},
     "output_type": "execute_result"
    }
   ],
   "source": [
    "full_board_check(test_board)"
   ]
  },
  {
   "cell_type": "markdown",
   "metadata": {},
   "source": [
    "**Step 8: Write a function that asks for a player's next position (as a number 1-9) and then uses the function from step 6 to check if it's a free position. If it is, then return the position for later use.**"
   ]
  },
  {
   "cell_type": "code",
   "execution_count": 40,
   "metadata": {},
   "outputs": [],
   "source": [
    "def player_choice(board):\n",
    "    \n",
    "    position = 0\n",
    "    \n",
    "    while position not in range(1,10) or space_check(board,position) == False:\n",
    "        position = int(input('Choose your move: (1 to 9) '))\n",
    "        \n",
    "    return position\n"
   ]
  },
  {
   "cell_type": "code",
   "execution_count": 41,
   "metadata": {},
   "outputs": [
    {
     "name": "stdout",
     "output_type": "stream",
     "text": [
      "Choose your move: (1 to 9) 99\n",
      "Choose your move: (1 to 9) 12\n",
      "Choose your move: (1 to 9) i\n"
     ]
    },
    {
     "ename": "ValueError",
     "evalue": "invalid literal for int() with base 10: 'i'",
     "output_type": "error",
     "traceback": [
      "\u001b[0;31m---------------------------------------------------------------------------\u001b[0m",
      "\u001b[0;31mValueError\u001b[0m                                Traceback (most recent call last)",
      "Cell \u001b[0;32mIn[41], line 1\u001b[0m\n\u001b[0;32m----> 1\u001b[0m player_choice(test_board)\n",
      "Cell \u001b[0;32mIn[40], line 6\u001b[0m, in \u001b[0;36mplayer_choice\u001b[0;34m(board)\u001b[0m\n\u001b[1;32m      3\u001b[0m position \u001b[38;5;241m=\u001b[39m \u001b[38;5;241m0\u001b[39m\n\u001b[1;32m      5\u001b[0m \u001b[38;5;28;01mwhile\u001b[39;00m position \u001b[38;5;129;01mnot\u001b[39;00m \u001b[38;5;129;01min\u001b[39;00m \u001b[38;5;28mrange\u001b[39m(\u001b[38;5;241m1\u001b[39m,\u001b[38;5;241m10\u001b[39m) \u001b[38;5;129;01mor\u001b[39;00m space_check(board,position) \u001b[38;5;241m==\u001b[39m \u001b[38;5;28;01mFalse\u001b[39;00m:\n\u001b[0;32m----> 6\u001b[0m     position \u001b[38;5;241m=\u001b[39m \u001b[38;5;28mint\u001b[39m(\u001b[38;5;28minput\u001b[39m(\u001b[38;5;124m'\u001b[39m\u001b[38;5;124mChoose your move: (1 to 9) \u001b[39m\u001b[38;5;124m'\u001b[39m))\n\u001b[1;32m      8\u001b[0m \u001b[38;5;28;01mreturn\u001b[39;00m position\n",
      "\u001b[0;31mValueError\u001b[0m: invalid literal for int() with base 10: 'i'"
     ]
    }
   ],
   "source": [
    "player_choice(test_board)"
   ]
  },
  {
   "cell_type": "markdown",
   "metadata": {},
   "source": [
    "**Step 9: Write a function that asks the player if they want to play again and returns a boolean True if they do want to play again.**"
   ]
  },
  {
   "cell_type": "code",
   "execution_count": 18,
   "metadata": {},
   "outputs": [],
   "source": [
    "def replay():\n",
    "    game = input('Do you want to play again, Press Y or N: \\n')\n",
    "    game_on = game.upper()\n",
    "    if game_on == 'Y':\n",
    "        game_on = True\n",
    "    else:\n",
    "        game_on = False\n",
    "       \n",
    "        \n",
    "    return game_on"
   ]
  },
  {
   "cell_type": "markdown",
   "metadata": {
    "collapsed": true
   },
   "source": [
    "**Step 10: Here comes the hard part! Use while loops and the functions you've made to run the game!**"
   ]
  },
  {
   "cell_type": "code",
   "execution_count": null,
   "metadata": {},
   "outputs": [
    {
     "name": "stdout",
     "output_type": "stream",
     "text": [
      "Welcome to Tic Tac Toe!\n",
      "\n",
      "\n",
      "Player one: Do you want to be X or O: x\n",
      "Player One selected X\n",
      "Player two selected O\n",
      "\n",
      "\n",
      "Player 1 will go first.\n",
      "\n",
      "\n",
      "7 | 8 | 9\n",
      "----------\n",
      "4 | 5 | 6\n",
      "----------\n",
      "1 | 2 | 3\n",
      "Choose your move: (1 to 9) 1\n",
      "  |   |  \n",
      "----------\n",
      "  |   |  \n",
      "----------\n",
      "X |   |  \n",
      "Choose your move: (1 to 9) 2\n",
      "  |   |  \n",
      "----------\n",
      "  |   |  \n",
      "----------\n",
      "X | O |  \n",
      "Choose your move: (1 to 9) 3\n",
      "  |   |  \n",
      "----------\n",
      "  |   |  \n",
      "----------\n",
      "X | O | X\n",
      "Choose your move: (1 to 9) 4\n",
      "  |   |  \n",
      "----------\n",
      "O |   |  \n",
      "----------\n",
      "X | O | X\n",
      "Choose your move: (1 to 9) 5\n",
      "  |   |  \n",
      "----------\n",
      "O | X |  \n",
      "----------\n",
      "X | O | X\n",
      "Choose your move: (1 to 9) 6\n",
      "  |   |  \n",
      "----------\n",
      "O | X | O\n",
      "----------\n",
      "X | O | X\n",
      "Choose your move: (1 to 9) 7\n",
      "X |   |  \n",
      "----------\n",
      "O | X | O\n",
      "----------\n",
      "X | O | X\n",
      "Congrats, Player 1 won!\n"
     ]
    }
   ],
   "source": [
    "from IPython.display import clear_output\n",
    "\n",
    "\n",
    "print('Welcome to Tic Tac Toe!')\n",
    "print('\\n')\n",
    "\n",
    "testboard = ['#','1','2','3','4','5','6','7','8','9']\n",
    "\n",
    "board = ['#',' ',' ',' ',' ',' ',' ',' ',' ',' ']\n",
    "\n",
    "game_on = True\n",
    "while game_on == True:\n",
    "\n",
    "    # X or O selection\n",
    "\n",
    "    marker1, marker2 = player_input()\n",
    "    print('\\n')\n",
    "\n",
    "\n",
    "    # Which player goes first\n",
    "    player = choose_first()\n",
    "\n",
    "    print('\\n')\n",
    "    \n",
    "    # Display the board to Player\n",
    "    display_board(testboard)\n",
    "    \n",
    "#     full = False\n",
    "    full = full_board_check(board)\n",
    "    while full == False:\n",
    "    \n",
    "    # ask for move and space on the board is freely available or not: boolean\n",
    "        position = player_choice(board)\n",
    "\n",
    "    #Player 1 Turn\n",
    "        if player == 1:\n",
    "            board = place_marker(board, marker1, position)\n",
    "            \n",
    "    \n",
    "    #Player 2 Turn\n",
    "        if player == 2:\n",
    "            board = place_marker(board, marker2, position)\n",
    "        \n",
    "#     display the modified board\n",
    "        display_board(board)\n",
    "    \n",
    "#     win check\n",
    "        result1 = win_check(board, marker1)\n",
    "        result2 = win_check(board, marker2)\n",
    "    \n",
    "        if result1 == True or result2 == True:\n",
    "            print('Congrats, Player 1 won!')\n",
    "        elif result2 == True:\n",
    "            print('Player 2 Won, Congats!')\n",
    "            break\n",
    "        else:\n",
    "            pass\n",
    "        \n",
    "              \n",
    "        full = full_board_check(board)\n",
    "        if full == True:\n",
    "            if result1 == True or result2 == True:\n",
    "                print('Congrats, you won!')\n",
    "                print('\\n')\n",
    "#                 won = True\n",
    "                break\n",
    "            else:\n",
    "                pass\n",
    "                print('The Game is a draw!')\n",
    "                break\n",
    "        else: \n",
    "            pass\n",
    "        \n",
    "        \n",
    "        if player == 1:\n",
    "            player = 2\n",
    "        elif player == 2:\n",
    "            player = 1\n",
    "    \n",
    "#     if full == True or won == True:\n",
    "    game_on = replay()\n",
    "    if game_on == False:\n",
    "        \n",
    "        print('Thank you for playing!\\n')\n",
    "        print(' :) ')\n",
    "        break\n",
    "    else:\n",
    "        board = ['#',' ',' ',' ',' ',' ',' ',' ',' ',' ']\n",
    "        clear_output()\n",
    "        \n",
    "            \n"
   ]
  }
 ],
 "metadata": {
  "kernelspec": {
   "display_name": "Python 3 (ipykernel)",
   "language": "python",
   "name": "python3"
  },
  "language_info": {
   "codemirror_mode": {
    "name": "ipython",
    "version": 3
   },
   "file_extension": ".py",
   "mimetype": "text/x-python",
   "name": "python",
   "nbconvert_exporter": "python",
   "pygments_lexer": "ipython3",
   "version": "3.11.7"
  }
 },
 "nbformat": 4,
 "nbformat_minor": 1
}
